{
 "cells": [
  {
   "cell_type": "markdown",
   "metadata": {},
   "source": [
    "## Question 1:\n",
    "Assuming that we have some email addresses in the \"username@companyname.com\" format, please write program\n",
    "to print the company name of a given email address. Both user names and company names are composed of letters only.\n"
   ]
  },
  {
   "cell_type": "code",
   "execution_count": 1,
   "metadata": {},
   "outputs": [
    {
     "name": "stdout",
     "output_type": "stream",
     "text": [
      "enter email in the username@companyname.com format : john@google.com\n",
      "company is :  google\n"
     ]
    }
   ],
   "source": [
    "def find_comp (x):\n",
    "    name = x.split('@')[1].split('.')[0]\n",
    "    print('company is : ',name)\n",
    "email = input('enter email in the username@companyname.com format : ')\n",
    "find_comp(email)\n",
    "    "
   ]
  },
  {
   "cell_type": "markdown",
   "metadata": {},
   "source": [
    "## Question 2:\n",
    "Write a program that accepts a comma-separated sequence of words as input and prints the words in a comma\n",
    "separated sequence after sorting them alphabetically.\n"
   ]
  },
  {
   "cell_type": "code",
   "execution_count": 6,
   "metadata": {},
   "outputs": [
    {
     "name": "stdout",
     "output_type": "stream",
     "text": [
      "enter comma separated sequence of words: without,hello,bag,world\n",
      "After sorting strings are :  bag,hello,without,world\n"
     ]
    }
   ],
   "source": [
    "words = input(\"enter comma separated sequence of words: \")\n",
    "word =  words.split(',')\n",
    "l = \",\" .join(sorted(word))\n",
    "print(\"After sorting strings are : \",l)"
   ]
  },
  {
   "cell_type": "markdown",
   "metadata": {},
   "source": [
    "## Question 3:\n",
    "\n"
   ]
  },
  {
   "cell_type": "markdown",
   "metadata": {},
   "source": [
    "http://localhost:8888/notebooks/Desktop/letsupgrade/day6%20ans3.ipynb#Note:"
   ]
  },
  {
   "cell_type": "markdown",
   "metadata": {},
   "source": [
    "## Question 4:\n",
    "\n",
    "Given a list of n-1 numbers ranging from 1 to n, your task is to find the missing number. There are no duplicates.\n"
   ]
  },
  {
   "cell_type": "code",
   "execution_count": 7,
   "metadata": {},
   "outputs": [
    {
     "name": "stdout",
     "output_type": "stream",
     "text": [
      "enter numbers separated by space: 1 2 4 6 3 7 8\n",
      "missing value :  5\n"
     ]
    }
   ],
   "source": [
    "\n",
    "n = input(\"enter numbers separated by space: \")\n",
    "m = n.split(' ')\n",
    "list1 = [int(i) for i in m ]\n",
    "list1 = sorted(list1)\n",
    "set2 = {x for x in range(1,list1[-1])}\n",
    "set1 = set(list1)\n",
    "diff = set2-set1\n",
    "diff = list(map(str,diff))\n",
    "print(\"missing value : \", ' '.join(diff))\n",
    "\n"
   ]
  },
  {
   "cell_type": "markdown",
   "metadata": {},
   "source": [
    "## Question 5:\n",
    "With a given list L, write a program to print this list L after removing all duplicate values with original order reserved.\n"
   ]
  },
  {
   "cell_type": "code",
   "execution_count": 16,
   "metadata": {},
   "outputs": [
    {
     "name": "stdout",
     "output_type": "stream",
     "text": [
      "enter list:12 24 35 24 88 120 155 88 120 155\n",
      "The final result is :  12 24 35 88 120 155\n"
     ]
    }
   ],
   "source": [
    "def remove_duplicates(l):\n",
    "    final_list = []\n",
    "    for i in l :\n",
    "        if i not in final_list:\n",
    "            final_list.append(i)\n",
    "    print(\"The final result is : \",\" \".join(str(v) for v in final_list))\n",
    "l = input(\"enter list:\")\n",
    "l = l.split(' ')\n",
    "l = [int(i) for i in l ]\n",
    "remove_duplicates(sorted(l))"
   ]
  }
 ],
 "metadata": {
  "kernelspec": {
   "display_name": "Python 3",
   "language": "python",
   "name": "python3"
  },
  "language_info": {
   "codemirror_mode": {
    "name": "ipython",
    "version": 3
   },
   "file_extension": ".py",
   "mimetype": "text/x-python",
   "name": "python",
   "nbconvert_exporter": "python",
   "pygments_lexer": "ipython3",
   "version": "3.7.6"
  }
 },
 "nbformat": 4,
 "nbformat_minor": 4
}
