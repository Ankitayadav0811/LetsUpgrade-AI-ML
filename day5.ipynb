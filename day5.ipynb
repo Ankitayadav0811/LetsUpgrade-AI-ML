{
 "cells": [
  {
   "cell_type": "markdown",
   "metadata": {},
   "source": [
    "# Ques 1: python program to find the first 20 non - even prime natural numbers."
   ]
  },
  {
   "cell_type": "code",
   "execution_count": 1,
   "metadata": {},
   "outputs": [
    {
     "name": "stdout",
     "output_type": "stream",
     "text": [
      "first 20 non-even prime natural numbers are: \n",
      "3\n",
      "5\n",
      "7\n",
      "11\n",
      "13\n",
      "17\n",
      "19\n",
      "23\n",
      "29\n",
      "31\n",
      "37\n",
      "41\n",
      "43\n",
      "47\n",
      "53\n",
      "59\n",
      "61\n",
      "67\n",
      "71\n",
      "73\n"
     ]
    }
   ],
   "source": [
    " print(\"first 20 non-even prime natural numbers are: \")\n",
    "    \n",
    "for num in range(3,75):\n",
    "    if num > 1:#all prime no. are less than 1\n",
    "        for i in range (2,num):\n",
    "            if (num % i) == 0:\n",
    "                break\n",
    "        else:\n",
    "                print(num)\n"
   ]
  },
  {
   "cell_type": "markdown",
   "metadata": {},
   "source": [
    "# Ques2: 15 string function"
   ]
  },
  {
   "cell_type": "code",
   "execution_count": 9,
   "metadata": {},
   "outputs": [
    {
     "name": "stdout",
     "output_type": "stream",
     "text": [
      "The original string is:  fifth day assignment solution of course AI-ML \n",
      "\n",
      "1.upper: \n",
      "FIFTH DAY ASSIGNMENT SOLUTION OF COURSE AI-ML \n",
      "\n",
      "2.lower: \n",
      "fifth day assignment solution of course ai-ml \n",
      "\n",
      "3.Right Strip: \n",
      "fifth day assignment solution of course AI-ML\n",
      "\n",
      "4.left Strip: \n",
      "fifth day assignment solution of course AI-ML \n",
      "\n",
      "5.Strip: \n",
      "fifth day assignment solution of course AI-ML\n",
      "\n",
      "6.is string contain alfabets only?: \n",
      "False\n",
      "\n",
      "7.:find location of 'h' in string \n",
      "4\n",
      "\n",
      "8.replace all s with m: \n",
      "fifth day ammignment molution of courme AI-ML \n",
      "\n",
      "9. check whether the string ends with L or not? : \n",
      "False\n",
      "\n",
      "10.spliting string: \n",
      "['fifth', 'day', 'assignment', 'solution', 'of', 'course', 'AI-ML']\n",
      "\n",
      "11.check whether the string starts with f or not?: \n",
      "True\n",
      "\n",
      "12.swapping case: \n",
      "FIFTH DAY ASSIGNMENT SOLUTION OF COURSE ai-ml \n",
      "\n",
      "13.count how many times a appears in string?: \n",
      "2\n",
      "\n",
      "14.printin the index of given letter: \n",
      "24\n",
      "\n",
      "15.isdigit: \n",
      "False\n"
     ]
    }
   ],
   "source": [
    "string = \"fifth day assignment solution of course AI-ML \"\n",
    "print(\"The original string is: \" , string)\n",
    "print(\"\\n1.upper: \")\n",
    "print(string.upper())\n",
    "print(\"\\n2.lower: \")\n",
    "print(string.lower())\n",
    "print(\"\\n3.Right Strip: \")\n",
    "print(string.rstrip())\n",
    "print(\"\\n4.left Strip: \")\n",
    "print(string.lstrip())\n",
    "print(\"\\n5.Strip: \")\n",
    "print(string.strip())\n",
    "print(\"\\n6.is string contain alfabets only?: \")\n",
    "print(string.isalpha())\n",
    "print(\"\\n7.:find location of 'h' in string \")\n",
    "print(string.find('h'))\n",
    "print(\"\\n8.replace all s with m: \")\n",
    "print(string.replace('s','m'))\n",
    "print(\"\\n9. check whether the string ends with L or not? : \")\n",
    "print(string.endswith('L'))\n",
    "print(\"\\n10.spliting string: \")\n",
    "print(string.split())\n",
    "print(\"\\n11.check whether the string starts with f or not?: \")\n",
    "print(string.startswith('f'))\n",
    "print(\"\\n12.swapping case: \")\n",
    "print(string.swapcase())\n",
    "print(\"\\n13.count how many times a appears in string?: \")\n",
    "print(string.count('a'))\n",
    "print(\"\\n14.printin the index of given letter: \")\n",
    "print(string.index('u'))\n",
    "print(\"\\n15.isdigit: \")\n",
    "print(string.isdigit())"
   ]
  },
  {
   "cell_type": "markdown",
   "metadata": {},
   "source": [
    "# Ques3:check given string is palindrome or anagram or none of them?"
   ]
  },
  {
   "cell_type": "code",
   "execution_count": 22,
   "metadata": {},
   "outputs": [
    {
     "name": "stdout",
     "output_type": "stream",
     "text": [
      "enter a string: letsupgrade\n",
      "enter 2nd string to check anagram: edgarupstel\n",
      "edgarupstel is is an anagram\n"
     ]
    }
   ],
   "source": [
    "string = input(\"enter a string: \")\n",
    "rev = string[::-1]\n",
    "if rev == string:\n",
    "    print(string ,\"is palindrome\")\n",
    "elif rev!= string:\n",
    "    string2= input(\"enter 2nd string to check anagram: \")\n",
    "    sort_string = sorted(string)\n",
    "    sort_string2 = sorted(string2)\n",
    "    join_str = ''.join((sort_string))\n",
    "    join_str2 = ''.join((sort_string2))\n",
    "    if join_str == join_str2:\n",
    "        print(string2, \"is is an anagram\")\n",
    "else:\n",
    "    print(\"enterd string is none of them\")\n",
    "    "
   ]
  },
  {
   "cell_type": "markdown",
   "metadata": {},
   "source": [
    "# Ques4:Build a user defined function to remove all the special characters from string"
   ]
  },
  {
   "cell_type": "code",
   "execution_count": 21,
   "metadata": {},
   "outputs": [
    {
     "name": "stdout",
     "output_type": "stream",
     "text": [
      "string is :  Dr. Darshan Ingle @AI-ML Trainer \n",
      "After removing all special characters the resulting string is:  drdarshaningleaimltrainer\n"
     ]
    }
   ],
   "source": [
    "def remove_special_char (y):\n",
    "    invalid_list=['!','@','#','$','%','^','&','*','(',')','+','-','?','_',',',':','.',' ']\n",
    "    for i in invalid_list:\n",
    "        y = y.replace(i,'')\n",
    "        y = y.lower()\n",
    "    print(\"After removing all special characters the resulting string is: \", y)\n",
    "string = \"Dr. Darshan Ingle @AI-ML Trainer \"    \n",
    "print(\"string is : \",string)\n",
    "remove_special_char (string)"
   ]
  }
 ],
 "metadata": {
  "kernelspec": {
   "display_name": "Python 3",
   "language": "python",
   "name": "python3"
  },
  "language_info": {
   "codemirror_mode": {
    "name": "ipython",
    "version": 3
   },
   "file_extension": ".py",
   "mimetype": "text/x-python",
   "name": "python",
   "nbconvert_exporter": "python",
   "pygments_lexer": "ipython3",
   "version": "3.7.6"
  }
 },
 "nbformat": 4,
 "nbformat_minor": 4
}
