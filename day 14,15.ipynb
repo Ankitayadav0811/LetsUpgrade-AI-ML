{
 "cells": [
  {
   "cell_type": "code",
   "execution_count": 22,
   "metadata": {},
   "outputs": [],
   "source": [
    "import numpy as np "
   ]
  },
  {
   "cell_type": "markdown",
   "metadata": {},
   "source": [
    "# 1. Create a 3x3x3 array with random values"
   ]
  },
  {
   "cell_type": "code",
   "execution_count": 23,
   "metadata": {},
   "outputs": [
    {
     "data": {
      "text/plain": [
       "array([[[0.7624815 , 0.5675531 , 0.63012308],\n",
       "        [0.5961135 , 0.93328061, 0.74317853],\n",
       "        [0.10948251, 0.58819123, 0.50820484]],\n",
       "\n",
       "       [[0.32456314, 0.14021151, 0.62412428],\n",
       "        [0.70153524, 0.50965685, 0.39385014],\n",
       "        [0.59585362, 0.7222401 , 0.81149893]],\n",
       "\n",
       "       [[0.0069635 , 0.71367119, 0.79045379],\n",
       "        [0.81185921, 0.71280292, 0.11346527],\n",
       "        [0.20370676, 0.44892857, 0.41927378]]])"
      ]
     },
     "execution_count": 23,
     "metadata": {},
     "output_type": "execute_result"
    }
   ],
   "source": [
    "np.random.rand(3,3,3)"
   ]
  },
  {
   "cell_type": "markdown",
   "metadata": {},
   "source": [
    "# 2.Create a 5x5 matrix with values 1,2,3,4 just below the diagonal"
   ]
  },
  {
   "cell_type": "code",
   "execution_count": 24,
   "metadata": {},
   "outputs": [
    {
     "name": "stdout",
     "output_type": "stream",
     "text": [
      "The original matrix is : \n",
      "  [[0. 0. 0. 0. 0.]\n",
      " [0. 0. 0. 0. 0.]\n",
      " [0. 0. 0. 0. 0.]\n",
      " [0. 0. 0. 0. 0.]\n",
      " [0. 0. 0. 0. 0.]]\n",
      "Final matrix is: \n",
      " [[0 0 0 0 0]\n",
      " [1 0 0 0 0]\n",
      " [0 2 0 0 0]\n",
      " [0 0 3 0 0]\n",
      " [0 0 0 4 0]]\n"
     ]
    }
   ],
   "source": [
    "x= np.zeros((5,5))\n",
    "print(\"The original matrix is : \\n \",x)\n",
    "x = np.diag([1,2,3,4],k=-1)\n",
    "print(\"Final matrix is: \\n\",x)\n",
    "\n"
   ]
  },
  {
   "cell_type": "markdown",
   "metadata": {},
   "source": [
    " # 3.Create a 8x8 matrix and fill it with a checkerboard pattern"
   ]
  },
  {
   "cell_type": "code",
   "execution_count": 25,
   "metadata": {},
   "outputs": [
    {
     "data": {
      "text/plain": [
       "array([[0., 1., 0., 1., 0., 1., 0., 1.],\n",
       "       [1., 0., 1., 0., 1., 0., 1., 0.],\n",
       "       [0., 1., 0., 1., 0., 1., 0., 1.],\n",
       "       [1., 0., 1., 0., 1., 0., 1., 0.],\n",
       "       [0., 1., 0., 1., 0., 1., 0., 1.],\n",
       "       [1., 0., 1., 0., 1., 0., 1., 0.],\n",
       "       [0., 1., 0., 1., 0., 1., 0., 1.],\n",
       "       [1., 0., 1., 0., 1., 0., 1., 0.]])"
      ]
     },
     "execution_count": 25,
     "metadata": {},
     "output_type": "execute_result"
    }
   ],
   "source": [
    "x= np.zeros((8,8))\n",
    "\n",
    "x[1::2,::2]=1 \n",
    "x[::2,1::2]=1 \n",
    "x"
   ]
  },
  {
   "cell_type": "markdown",
   "metadata": {},
   "source": [
    " # 4. Normalize a 5x5 random matrix"
   ]
  },
  {
   "cell_type": "code",
   "execution_count": 26,
   "metadata": {},
   "outputs": [
    {
     "name": "stdout",
     "output_type": "stream",
     "text": [
      "The original matrix  is :  \n",
      " [[0.03327766 0.85984418 0.25369274 0.08965969 0.29775491]\n",
      " [0.74552651 0.60355976 0.00293785 0.62351396 0.59021   ]\n",
      " [0.09431489 0.22792928 0.08520896 0.02146762 0.61533284]\n",
      " [0.83187879 0.37201487 0.40258718 0.17745958 0.49003759]\n",
      " [0.98642482 0.12580657 0.11807124 0.70472146 0.1056457 ]]\n",
      "Normalized matrix is : \n",
      " [[0.03084923 0.87129404 0.25496514 0.08817792 0.29976713]\n",
      " [0.75505694 0.61070653 0.         0.63099577 0.59713263]\n",
      " [0.09291129 0.2287691  0.08365247 0.01884089 0.62267728]\n",
      " [0.8428591  0.37527393 0.40635956 0.17745201 0.49527828]\n",
      " [1.         0.12493173 0.11706652 0.71356676 0.10443235]]\n"
     ]
    }
   ],
   "source": [
    "x = np.random.rand(5,5)\n",
    "print(\"The original matrix  is :  \\n\",x)\n",
    "\n",
    "x_norm= (x-x.min())/(x.max()-x.min())\n",
    "print(\"Normalized matrix is : \\n\" ,x_norm)"
   ]
  },
  {
   "cell_type": "markdown",
   "metadata": {},
   "source": [
    "# 5. How to find common values between two arrays?"
   ]
  },
  {
   "cell_type": "code",
   "execution_count": 27,
   "metadata": {},
   "outputs": [
    {
     "name": "stdout",
     "output_type": "stream",
     "text": [
      "1\n",
      "9\n",
      "4\n"
     ]
    }
   ],
   "source": [
    "\n",
    "x= np.array([1,2,7,9,3,4])\n",
    "y= np.array([1,4,8,6,9])\n",
    "for i in x :\n",
    "    if i in y:\n",
    "        print(i)\n",
    "        \n"
   ]
  },
  {
   "cell_type": "markdown",
   "metadata": {},
   "source": [
    "# 6.How to get the dates of yesterday, today and tomorrow?"
   ]
  },
  {
   "cell_type": "code",
   "execution_count": 28,
   "metadata": {},
   "outputs": [
    {
     "name": "stdout",
     "output_type": "stream",
     "text": [
      "yesterday:  2020-07-29\n",
      "Today:  2020-07-30\n",
      "Tomorrow:  2020-07-31\n"
     ]
    }
   ],
   "source": [
    "import datetime\n",
    " \n",
    "today = datetime.date.today()\n",
    "yesterday= today- datetime.timedelta(days = 1 )\n",
    "tomorrow = today+ datetime.timedelta(days = 1)\n",
    "\n",
    "print(\"yesterday: \",yesterday)\n",
    "print(\"Today: \", today)\n",
    "print(\"Tomorrow: \",tomorrow)"
   ]
  },
  {
   "cell_type": "markdown",
   "metadata": {},
   "source": [
    "\n",
    "\n",
    "# 7. Consider two random array A and B, check if they are equal"
   ]
  },
  {
   "cell_type": "code",
   "execution_count": 29,
   "metadata": {},
   "outputs": [
    {
     "name": "stdout",
     "output_type": "stream",
     "text": [
      " First array x is : \n",
      "  [2 2 2]\n",
      " Second array y is : \n",
      " [1 1 1]\n",
      "Arrays are not equal.\n"
     ]
    }
   ],
   "source": [
    "x= np.random.randint(1,3,3)\n",
    "print(\" First array x is : \\n \",x)\n",
    "y= np.random.randint(1,3,3)\n",
    "print(\" Second array y is : \\n\",y)\n",
    "if np.allclose(x,y)== True:\n",
    "    print(\"Arrays are equal.\")\n",
    "else:\n",
    "    print(\"Arrays are not equal.\")\n"
   ]
  },
  {
   "cell_type": "markdown",
   "metadata": {},
   "source": [
    " # 8.Create random vector of size 10 and replace the maximum value by 0"
   ]
  },
  {
   "cell_type": "code",
   "execution_count": 30,
   "metadata": {},
   "outputs": [
    {
     "name": "stdout",
     "output_type": "stream",
     "text": [
      "The  original vector is: \n",
      " [0.97916182 0.13866699 0.15737624 0.76239293 0.80391904 0.54984743\n",
      " 0.90510703 0.88106894 0.76734816 0.53906682]\n",
      "After replace the max value by 0 , the vector is : \n",
      " [0.         0.13866699 0.15737624 0.76239293 0.80391904 0.54984743\n",
      " 0.90510703 0.88106894 0.76734816 0.53906682]\n"
     ]
    }
   ],
   "source": [
    "x= np.random.random(10)\n",
    "print(\"The  original vector is: \\n\",x)\n",
    "x[x.argmax()] = 0\n",
    "print(\"After replace the max value by 0 , the vector is : \\n\",x)"
   ]
  },
  {
   "cell_type": "markdown",
   "metadata": {},
   "source": [
    "# 9. How to print all the values of an array?"
   ]
  },
  {
   "cell_type": "code",
   "execution_count": 31,
   "metadata": {},
   "outputs": [
    {
     "name": "stdout",
     "output_type": "stream",
     "text": [
      "[1 2 3]\n",
      "[4 5 6]\n",
      "[7 8 9]\n"
     ]
    }
   ],
   "source": [
    "x= np.array([[1,2,3],\n",
    "             [4,5,6],\n",
    "             [7,8,9]])\n",
    "for i in x:\n",
    "    print (i)"
   ]
  },
  {
   "cell_type": "markdown",
   "metadata": {},
   "source": [
    "# 10.Subtract the mean of each row of a matrix"
   ]
  },
  {
   "cell_type": "code",
   "execution_count": 32,
   "metadata": {},
   "outputs": [
    {
     "name": "stdout",
     "output_type": "stream",
     "text": [
      "The matrix is :  [[0.18362577 0.07259756 0.53696813 0.50187314 0.08328743]\n",
      " [0.67362512 0.36485223 0.91703185 0.85381859 0.84915643]\n",
      " [0.26485619 0.0384277  0.64648309 0.3164162  0.39043222]\n",
      " [0.52743211 0.47726549 0.79059967 0.59930777 0.20402955]\n",
      " [0.22201291 0.86382017 0.984632   0.05001321 0.36620607]]\n",
      "final matrix is :  [[-0.28752505 -0.39855326  0.0658173   0.03072232 -0.3878634 ]\n",
      " [ 0.2024743  -0.10629859  0.44588103  0.38266777  0.3780056 ]\n",
      " [-0.20629463 -0.43272312  0.17533227 -0.15473462 -0.0807186 ]\n",
      " [ 0.05628129  0.00611466  0.31944884  0.12815694 -0.26712128]\n",
      " [-0.24913792  0.39266934  0.51348118 -0.42113762 -0.10494475]]\n"
     ]
    }
   ],
   "source": [
    "x = np.random.rand(5,5)\n",
    "print(\"The matrix is : \" , x)\n",
    "y= x-x.mean()\n",
    "print(\"final matrix is : \", y)            "
   ]
  },
  {
   "cell_type": "markdown",
   "metadata": {},
   "source": [
    "# 11.Consider a given vector, how to add 1 to each element indexed by a second vector \n",
    "(be careful with repeated indices)?"
   ]
  },
  {
   "cell_type": "code",
   "execution_count": 33,
   "metadata": {},
   "outputs": [
    {
     "name": "stdout",
     "output_type": "stream",
     "text": [
      "The first vector is: \n",
      " [1. 1. 1. 1. 1. 1. 1. 1. 1. 1.]\n",
      "The second vector is :\n",
      " [3 3 0 7 2 9 5 2 2 8 4 4 3 7 8 5 7 1 4 6]\n",
      "[2. 2. 4. 4. 4. 3. 2. 4. 3. 2.]\n"
     ]
    }
   ],
   "source": [
    "Z = np.ones(10)\n",
    "print(\"The first vector is: \\n\",Z)\n",
    "I = np.random.randint(0,len(Z),20)\n",
    "print(\"The second vector is :\\n\",I)\n",
    "Z += np.bincount(I, minlength=len(Z))\n",
    "print(Z)\n"
   ]
  },
  {
   "cell_type": "markdown",
   "metadata": {},
   "source": [
    "# 12.How to get the diagonal of a dot product?"
   ]
  },
  {
   "cell_type": "code",
   "execution_count": 34,
   "metadata": {},
   "outputs": [
    {
     "name": "stdout",
     "output_type": "stream",
     "text": [
      "Dot product is: \n",
      " [[ 30  36  42]\n",
      " [ 66  81  96]\n",
      " [102 126 150]]\n",
      "Diagonal of dot product is : \n",
      " [ 30  81 150]\n"
     ]
    }
   ],
   "source": [
    "x= np.array([[1,2,3],\n",
    "               [4,5,6],\n",
    "               [7,8,9]])\n",
    "y= np.array([[1,2,3],\n",
    "               [4,5,6],\n",
    "               [7,8,9]])\n",
    "dot = x@y\n",
    "print(\"Dot product is: \\n\",dot)\n",
    "diagonal = np.diag(dot)\n",
    "print(\"Diagonal of dot product is : \\n\" ,diagonal)"
   ]
  },
  {
   "cell_type": "markdown",
   "metadata": {},
   "source": [
    "# 13.How to find the most frequent value in an array?"
   ]
  },
  {
   "cell_type": "code",
   "execution_count": 35,
   "metadata": {},
   "outputs": [
    {
     "name": "stdout",
     "output_type": "stream",
     "text": [
      "Array is : \n",
      " [9 1 1 7 5]\n"
     ]
    },
    {
     "data": {
      "text/plain": [
       "1"
      ]
     },
     "execution_count": 35,
     "metadata": {},
     "output_type": "execute_result"
    }
   ],
   "source": [
    "\n",
    "x= np.random.randint(0,10,5)\n",
    "print(\"Array is : \\n\",x)\n",
    "np.bincount(x).argmax()"
   ]
  },
  {
   "cell_type": "markdown",
   "metadata": {},
   "source": [
    "# 14.How to get the n largest values of an array"
   ]
  },
  {
   "cell_type": "code",
   "execution_count": 36,
   "metadata": {},
   "outputs": [
    {
     "name": "stdout",
     "output_type": "stream",
     "text": [
      "x is: \n",
      "  [ 7  6  7  0  2  6 18  2 12 17]\n",
      "value is: \n",
      " 18\n"
     ]
    }
   ],
   "source": [
    "x= np.random.randint(0,20,10)\n",
    "print(\"x is: \\n \",x)\n",
    "\n",
    "val = x[np.argsort(x)]\n",
    "val= val[-1]\n",
    "\n",
    "print(\"value is: \\n\", val)"
   ]
  },
  {
   "cell_type": "markdown",
   "metadata": {},
   "source": [
    "# 15.How to create a record array from a regular array?\n"
   ]
  },
  {
   "cell_type": "code",
   "execution_count": 37,
   "metadata": {},
   "outputs": [
    {
     "name": "stdout",
     "output_type": "stream",
     "text": [
      "Regular array is : \n",
      " [1 2 3 4 5 6 7 8 9]\n",
      "Record array is: \n",
      " (1, 2, 3, 4, 5, 6, 7, 8, 9)\n"
     ]
    }
   ],
   "source": [
    "x = np.array([1,2,3,4,5,6,7,8,9])\n",
    "print(\"Regular array is : \\n\",x)\n",
    "y= np.core.records.fromarrays(x.T)\n",
    "print(\"Record array is: \\n\",y)"
   ]
  }
 ],
 "metadata": {
  "kernelspec": {
   "display_name": "Python 3",
   "language": "python",
   "name": "python3"
  },
  "language_info": {
   "codemirror_mode": {
    "name": "ipython",
    "version": 3
   },
   "file_extension": ".py",
   "mimetype": "text/x-python",
   "name": "python",
   "nbconvert_exporter": "python",
   "pygments_lexer": "ipython3",
   "version": "3.7.6"
  }
 },
 "nbformat": 4,
 "nbformat_minor": 4
}
