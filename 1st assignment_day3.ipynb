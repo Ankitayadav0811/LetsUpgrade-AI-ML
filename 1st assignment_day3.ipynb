{
 "cells": [
  {
   "cell_type": "markdown",
   "metadata": {},
   "source": [
    "# Answer 1"
   ]
  },
  {
   "cell_type": "code",
   "execution_count": 4,
   "metadata": {},
   "outputs": [
    {
     "name": "stdout",
     "output_type": "stream",
     "text": [
      "Enter first complex no. : 2+3j\n",
      "Enter second complex no. : 3+2j\n",
      "result is :  (-1+1j)\n"
     ]
    }
   ],
   "source": [
    "num1 = complex(input(\"Enter first complex no. : \"))\n",
    "num2 = complex(input(\"Enter second complex no. : \"))\n",
    "res = num1 - num2\n",
    "print(\"Result is : \" , res)"
   ]
  },
  {
   "cell_type": "markdown",
   "metadata": {},
   "source": [
    "# Answer 2"
   ]
  },
  {
   "cell_type": "code",
   "execution_count": 9,
   "metadata": {},
   "outputs": [
    {
     "name": "stdout",
     "output_type": "stream",
     "text": [
      "Enter any number4\n",
      "Result is :  1.4142135623730951\n"
     ]
    }
   ],
   "source": [
    "num = int(input (\"Enter any number\"))\n",
    "\n",
    "res = num ** (1/4)\n",
    "print(\"Result is : \", res)"
   ]
  },
  {
   "cell_type": "markdown",
   "metadata": {},
   "source": [
    "# Answer 3\n"
   ]
  },
  {
   "cell_type": "code",
   "execution_count": 13,
   "metadata": {},
   "outputs": [
    {
     "name": "stdout",
     "output_type": "stream",
     "text": [
      "Enter first no. : 2\n",
      "Enter second no. : 3\n",
      "After swaping num1 is :  3\n",
      "After swaping num2 is :  2\n"
     ]
    }
   ],
   "source": [
    "num1 = int(input(\"Enter first no. : \"))\n",
    "num2 = int(input (\"Enter second no. : \"))\n",
    "temp = num1\n",
    "num1 = num2\n",
    "num2 = temp\n",
    "print(\"After swaping num1 is : \",num1)\n",
    "print(\"After swaping num2 is : \" , num2)"
   ]
  },
  {
   "cell_type": "markdown",
   "metadata": {},
   "source": [
    "# Answer 4"
   ]
  },
  {
   "cell_type": "code",
   "execution_count": 16,
   "metadata": {},
   "outputs": [
    {
     "name": "stdout",
     "output_type": "stream",
     "text": [
      "Enter first no. : 4\n",
      "Enter second no.: 5\n",
      "After swaping num1 is :  5\n",
      "After swaping num2 is :  4\n"
     ]
    }
   ],
   "source": [
    "num1 = int(input(\"Enter first no. : \"))\n",
    "num2 = int(input (\"Enter second no.: \"))\n",
    "num1 = num1 +num2\n",
    "num2 = num1-num2\n",
    "num1 = num1 - num2\n",
    "print(\"After swaping num1 is : \",num1)\n",
    "print(\"After swaping num2 is : \" , num2)"
   ]
  },
  {
   "cell_type": "markdown",
   "metadata": {},
   "source": [
    "# Answer 5\n"
   ]
  },
  {
   "cell_type": "code",
   "execution_count": 33,
   "metadata": {},
   "outputs": [
    {
     "name": "stdout",
     "output_type": "stream",
     "text": [
      "Enter temperature in fahrenheit : 95.5\n",
      "temperature in celsius is :  35.27777777777778\n",
      "temperature in kelvin is :  308.42777777777775\n"
     ]
    }
   ],
   "source": [
    "f = float(input(\"Enter temperature in fahrenheit : \"))\n",
    "c = (f-32)*(5/9)\n",
    "print( \"temperature in celsius is : \", c)\n",
    "k = c + 273.15\n",
    "print( \"temperature in kelvin is : \", k)"
   ]
  },
  {
   "cell_type": "markdown",
   "metadata": {},
   "source": [
    "# Answer 6\n"
   ]
  },
  {
   "cell_type": "code",
   "execution_count": 22,
   "metadata": {},
   "outputs": [
    {
     "name": "stdout",
     "output_type": "stream",
     "text": [
      "5 is of type <class 'int'>\n",
      "2.5 is of type <class 'float'>\n",
      "(2+6j) is of type <class 'complex'>\n"
     ]
    }
   ],
   "source": [
    "#python numbers\n",
    "x = 5\n",
    "print(x, \"is of type\" , type (x))\n",
    "y = 2.5\n",
    "print(y, \"is of type\" , type (y))\n",
    "z = 2+6j\n",
    "print(z, \"is of type\" , type (z))\n",
    "    "
   ]
  },
  {
   "cell_type": "code",
   "execution_count": 24,
   "metadata": {},
   "outputs": [
    {
     "name": "stdout",
     "output_type": "stream",
     "text": [
      "[1, 2, 3, 4] is of type <class 'list'>\n"
     ]
    }
   ],
   "source": [
    "#python list\n",
    "x =[1,2,3,4]\n",
    "print(x, \"is of type\" , type (x))"
   ]
  },
  {
   "cell_type": "code",
   "execution_count": 26,
   "metadata": {},
   "outputs": [
    {
     "name": "stdout",
     "output_type": "stream",
     "text": [
      "(1, 2, 3, 4) is of type <class 'tuple'>\n"
     ]
    }
   ],
   "source": [
    "#python tuple\n",
    "x = (1,2,3,4)\n",
    "print(x, \"is of type\" , type (x))"
   ]
  },
  {
   "cell_type": "code",
   "execution_count": 27,
   "metadata": {},
   "outputs": [
    {
     "name": "stdout",
     "output_type": "stream",
     "text": [
      "python program is of type <class 'str'>\n"
     ]
    }
   ],
   "source": [
    "#python strings\n",
    "x = \"python program\"\n",
    "print(x, \"is of type\" , type (x))\n"
   ]
  },
  {
   "cell_type": "code",
   "execution_count": 30,
   "metadata": {},
   "outputs": [
    {
     "name": "stdout",
     "output_type": "stream",
     "text": [
      "{'a': 1, 'b': 2, 'c': 3} is of type <class 'dict'>\n"
     ]
    }
   ],
   "source": [
    "#python dictionary\n",
    "x = {\"a\":1,\"b\":2,\"c\":3}\n",
    "print(x, \"is of type\" , type (x))"
   ]
  },
  {
   "cell_type": "code",
   "execution_count": 31,
   "metadata": {},
   "outputs": [
    {
     "name": "stdout",
     "output_type": "stream",
     "text": [
      "{1, 2, 3} is of type <class 'set'>\n"
     ]
    }
   ],
   "source": [
    "#python set\n",
    "x = {1,2,3}\n",
    "print(x, \"is of type\" , type (x))"
   ]
  },
  {
   "cell_type": "markdown",
   "metadata": {},
   "source": [
    "# Answer 7\n"
   ]
  },
  {
   "cell_type": "markdown",
   "metadata": {},
   "source": [
    "# steps create account on github\n",
    "* __1.__ Type github on ur browser. \n",
    "* __2.__ Tap to sign up button.\n",
    "* __3.__ Then fill ur email and password.\n",
    "* __4.__ your github account is ready to use.\n",
    "\n",
    "# Steps to upload githubs assignment link\n",
    "* __1.__ First of all you have to __login/signin__ to your github account.\n",
    "* __2.__ You found the __new__ button on your screen(in left side).click on that...\n",
    "* __3.__ After that you found a new page on your screen there you have to fill necessary details like -->__Repository name__ as\n",
    "___LetsUpgrade-AI-ML___ . and in __Description__ box type as ___Assignments___ . that's all....\n",
    "* __4.__ Then click on __create repository__ button.\n",
    "* __5.__ Then you see over here a folder created named as __LetsUpgrade-AI-ML__ is there. \n",
    "* __6.__ After that you have to go with the link named as __uploading an existing file__.\n",
    "* __7.__ Now you can drag and drop your file in which you solve assignment questions.\n",
    "* __8.__ After uploading the file you simply click on __commit changes__ .\n",
    "* __9.__ After that open your file on github by clicking on that and copy the URL of the file (which is now uploaded in your repositories).\n",
    "* __10.__ Now, you have a form given by letsupgrade team follow the instructions and fill the form ,in form you have to fill this URL .\n",
    "* __11.__ And in this final step you have to simply __submit__ the form .\n",
    "* __12.__ After the submitting of form you get a mail of __succcessfully sumitted assignment__."
   ]
  }
 ],
 "metadata": {
  "kernelspec": {
   "display_name": "Python 3",
   "language": "python",
   "name": "python3"
  },
  "language_info": {
   "codemirror_mode": {
    "name": "ipython",
    "version": 3
   },
   "file_extension": ".py",
   "mimetype": "text/x-python",
   "name": "python",
   "nbconvert_exporter": "python",
   "pygments_lexer": "ipython3",
   "version": "3.7.6"
  }
 },
 "nbformat": 4,
 "nbformat_minor": 4
}
