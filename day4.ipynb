{
 "cells": [
  {
   "cell_type": "markdown",
   "metadata": {},
   "source": [
    "# Answer 1:"
   ]
  },
  {
   "cell_type": "code",
   "execution_count": 7,
   "metadata": {},
   "outputs": [
    {
     "name": "stdout",
     "output_type": "stream",
     "text": [
      "Enter the first complex no.: 2+3j\n",
      "Enter the second complex no.: 3+4j\n",
      "addition of the no. is:  (5+7j)\n",
      "substraction of the no. is:  (-1-1j)\n",
      "multiplication of the no. is:  (-6+17j)\n",
      "division of the no. is:  (0.72+0.04j)\n"
     ]
    }
   ],
   "source": [
    "num1 = complex(input(\"Enter the first complex no.: \"))\n",
    "num2 = complex(input(\"Enter the second complex no.: \"))\n",
    "\n",
    "add = num1 + num2 #addition\n",
    "sub = num1 - num2 #substraction\n",
    "mul = num1 * num2 #multiplication\n",
    "div = num1 / num2 # division\n",
    "\n",
    "print(\"addition of the no. is: \",add)\n",
    "print(\"substraction of the no. is: \",sub)\n",
    "print(\"multiplication of the no. is: \",mul)\n",
    "print(\"division of the no. is: \",div)\n"
   ]
  },
  {
   "cell_type": "markdown",
   "metadata": {},
   "source": [
    "#### MODULO and FLOOR DIVISION can't perform on complex no in python"
   ]
  },
  {
   "cell_type": "markdown",
   "metadata": {},
   "source": [
    "# Answer 2 "
   ]
  },
  {
   "cell_type": "markdown",
   "metadata": {},
   "source": [
    "# range()\n",
    "* it returns a sequence of numbers.\n",
    "* This function has three parameters named as ___start,stop,step___\n",
    "* Starting from __0__ and increments by __1__ __by default__ and stops before a specified no. (__remember that python neglects upper bound__).\n",
    "* the format of range function is __range(start,stop,step)__ ."
   ]
  },
  {
   "cell_type": "code",
   "execution_count": 10,
   "metadata": {},
   "outputs": [
    {
     "name": "stdout",
     "output_type": "stream",
     "text": [
      "1\n",
      "3\n",
      "5\n",
      "7\n",
      "9\n"
     ]
    }
   ],
   "source": [
    "for i in range (1,10,2):\n",
    "    print(i)"
   ]
  },
  {
   "cell_type": "markdown",
   "metadata": {},
   "source": [
    "# Answer 3\n"
   ]
  },
  {
   "cell_type": "code",
   "execution_count": 13,
   "metadata": {},
   "outputs": [
    {
     "name": "stdout",
     "output_type": "stream",
     "text": [
      "enter first no.: 300\n",
      "enter second no.: 200\n",
      "60000\n"
     ]
    }
   ],
   "source": [
    "num1 = int( input(\"enter first no.: \"))\n",
    "num2 = int(input(\"enter second no.: \"))\n",
    "sub = num1 - num2 \n",
    "if sub >25:\n",
    "    print(num1*num2)\n",
    "else:\n",
    "    print(num1/num2)"
   ]
  },
  {
   "cell_type": "markdown",
   "metadata": {},
   "source": [
    "# Answer4\n"
   ]
  },
  {
   "cell_type": "code",
   "execution_count": 16,
   "metadata": {},
   "outputs": [
    {
     "name": "stdout",
     "output_type": "stream",
     "text": [
      "2\n",
      "14\n",
      "34\n",
      "62\n",
      "98\n"
     ]
    }
   ],
   "source": [
    "l = [1,2,3,4,5,6,7,8,9,10]\n",
    "for i in l:\n",
    "    if i%2 == 0:\n",
    "        print((i**2)-2)"
   ]
  },
  {
   "cell_type": "markdown",
   "metadata": {},
   "source": [
    "# Answer5\n"
   ]
  },
  {
   "cell_type": "code",
   "execution_count": 19,
   "metadata": {},
   "outputs": [
    {
     "name": "stdout",
     "output_type": "stream",
     "text": [
      "80\n",
      "34\n",
      "8\n",
      "10\n"
     ]
    }
   ],
   "source": [
    "l = [80,95,34,47,5,6,7,8,9,10]\n",
    "for number in l :\n",
    "    if (number > 7 ) &  (number %2 == 0):\n",
    "        print(number)\n",
    "        "
   ]
  }
 ],
 "metadata": {
  "kernelspec": {
   "display_name": "Python 3",
   "language": "python",
   "name": "python3"
  },
  "language_info": {
   "codemirror_mode": {
    "name": "ipython",
    "version": 3
   },
   "file_extension": ".py",
   "mimetype": "text/x-python",
   "name": "python",
   "nbconvert_exporter": "python",
   "pygments_lexer": "ipython3",
   "version": "3.7.6"
  }
 },
 "nbformat": 4,
 "nbformat_minor": 4
}
